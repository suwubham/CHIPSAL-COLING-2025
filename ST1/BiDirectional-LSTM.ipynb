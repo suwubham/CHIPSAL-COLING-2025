{
 "cells": [
  {
   "cell_type": "code",
   "execution_count": 14,
   "metadata": {},
   "outputs": [],
   "source": [
    "import pandas as pd\n",
    "import matplotlib.pyplot as plt\n",
    "import seaborn as sns\n",
    "from sklearn.model_selection import train_test_split\n",
    "from sklearn.preprocessing import LabelEncoder\n",
    "import torch\n",
    "from torch.utils.data import Dataset, DataLoader\n",
    "import torch.nn as nn\n",
    "import torch.optim as optim\n",
    "from tqdm import tqdm\n",
    "import re\n",
    "import fasttext"
   ]
  },
  {
   "cell_type": "code",
   "execution_count": 15,
   "metadata": {},
   "outputs": [
    {
     "data": {
      "text/html": [
       "<div>\n",
       "<style scoped>\n",
       "    .dataframe tbody tr th:only-of-type {\n",
       "        vertical-align: middle;\n",
       "    }\n",
       "\n",
       "    .dataframe tbody tr th {\n",
       "        vertical-align: top;\n",
       "    }\n",
       "\n",
       "    .dataframe thead th {\n",
       "        text-align: right;\n",
       "    }\n",
       "</style>\n",
       "<table border=\"1\" class=\"dataframe\">\n",
       "  <thead>\n",
       "    <tr style=\"text-align: right;\">\n",
       "      <th></th>\n",
       "      <th>index</th>\n",
       "      <th>text</th>\n",
       "      <th>label</th>\n",
       "    </tr>\n",
       "  </thead>\n",
       "  <tbody>\n",
       "    <tr>\n",
       "      <th>0</th>\n",
       "      <td>10000</td>\n",
       "      <td>निर्वाचन आयोगले गति छाड्यो</td>\n",
       "      <td>0</td>\n",
       "    </tr>\n",
       "    <tr>\n",
       "      <th>1</th>\n",
       "      <td>10001</td>\n",
       "      <td>जीतपुरसिमराः एमालेबाट चौधरी र अधिकारीले गरे उम...</td>\n",
       "      <td>0</td>\n",
       "    </tr>\n",
       "    <tr>\n",
       "      <th>2</th>\n",
       "      <td>10002</td>\n",
       "      <td>दलहरुको घरदैलो कार्यक्रममा ठुलो ठुलो आवाजमा स्...</td>\n",
       "      <td>0</td>\n",
       "    </tr>\n",
       "    <tr>\n",
       "      <th>3</th>\n",
       "      <td>10003</td>\n",
       "      <td>म पनि त्यही सोचेको, अब पनि भुई कटहर लाई भोट न...</td>\n",
       "      <td>0</td>\n",
       "    </tr>\n",
       "    <tr>\n",
       "      <th>4</th>\n",
       "      <td>10006</td>\n",
       "      <td>शिक्षकबाट राजीनामा नदिई उपमेयरमा उम्मेदवारी दर्ता</td>\n",
       "      <td>0</td>\n",
       "    </tr>\n",
       "  </tbody>\n",
       "</table>\n",
       "</div>"
      ],
      "text/plain": [
       "   index                                               text  label\n",
       "0  10000                         निर्वाचन आयोगले गति छाड्यो      0\n",
       "1  10001  जीतपुरसिमराः एमालेबाट चौधरी र अधिकारीले गरे उम...      0\n",
       "2  10002  दलहरुको घरदैलो कार्यक्रममा ठुलो ठुलो आवाजमा स्...      0\n",
       "3  10003   म पनि त्यही सोचेको, अब पनि भुई कटहर लाई भोट न...      0\n",
       "4  10006  शिक्षकबाट राजीनामा नदिई उपमेयरमा उम्मेदवारी दर्ता      0"
      ]
     },
     "execution_count": 15,
     "metadata": {},
     "output_type": "execute_result"
    }
   ],
   "source": [
    "df = pd.read_csv(\"datasets/train.csv\")\n",
    "fasttext_model = fasttext.load_model('../Embeddings/devanagari_fasttext_cbow.bin')\n",
    "df.head()"
   ]
  },
  {
   "cell_type": "code",
   "execution_count": 16,
   "metadata": {},
   "outputs": [],
   "source": [
    "df.dropna(inplace = True)"
   ]
  },
  {
   "cell_type": "code",
   "execution_count": 17,
   "metadata": {},
   "outputs": [],
   "source": [
    "def preprocess_text(text):\n",
    "    pattern = r'[॥।॰،۔؟٪×÷!@#$%^&*()_+={}\\[\\]:;\"\\'<>,.?/~`|-]'\n",
    "    text = re.sub(r'[०१२३४५६७८९0-9]', '', text)\n",
    "    clean_text = re.sub(pattern, '', text)\n",
    "    clean_text.strip()\n",
    "    return clean_text\n",
    "\n",
    "df['text'] = df['text'].apply(preprocess_text)\n",
    "df[\"text\"] = df['text'].str.strip()"
   ]
  },
  {
   "cell_type": "code",
   "execution_count": 18,
   "metadata": {},
   "outputs": [],
   "source": [
    "X_train, X_test, y_train, y_test = train_test_split(df[\"text\"], df[\"label\"], test_size=0.2, random_state=42)"
   ]
  },
  {
   "cell_type": "code",
   "execution_count": 19,
   "metadata": {},
   "outputs": [],
   "source": [
    "class DevanagariDataset(Dataset):\n",
    "    def __init__(self, texts, labels, max_length=50):\n",
    "        self.texts = texts.tolist()  \n",
    "        self.labels = labels.tolist()  \n",
    "        self.max_length = max_length\n",
    "    \n",
    "    def __len__(self):\n",
    "        return len(self.texts)\n",
    "    \n",
    "    def __getitem__(self, idx):\n",
    "        words = self.texts[idx].split()  \n",
    "        \n",
    "        embeddings = [torch.tensor(fasttext_model.get_word_vector(word)) for word in words]\n",
    "        \n",
    "        if len(embeddings) > self.max_length:\n",
    "            embeddings = embeddings[:self.max_length]  # Truncate\n",
    "        else:\n",
    "            padding = [torch.zeros(fasttext_model.get_dimension())] * (self.max_length - len(embeddings))  \n",
    "            embeddings.extend(padding)\n",
    "        \n",
    "        text_tensor = torch.stack(embeddings)\n",
    "\n",
    "        # Get label tensor\n",
    "        label_tensor = torch.tensor(self.labels[idx], dtype=torch.long)\n",
    "\n",
    "        return text_tensor, label_tensor\n"
   ]
  },
  {
   "cell_type": "code",
   "execution_count": 20,
   "metadata": {},
   "outputs": [],
   "source": [
    "train_dataset = DevanagariDataset(X_train, y_train)\n",
    "train_loader = DataLoader(train_dataset, batch_size=32, shuffle=True)\n",
    "\n",
    "test_dataset = DevanagariDataset(X_test, y_test)\n",
    "test_loader = DataLoader(test_dataset, batch_size=32, shuffle=True)"
   ]
  },
  {
   "cell_type": "code",
   "execution_count": 21,
   "metadata": {},
   "outputs": [
    {
     "name": "stdout",
     "output_type": "stream",
     "text": [
      "Using device: cuda\n"
     ]
    }
   ],
   "source": [
    "device = torch.device(\"cuda\" if torch.cuda.is_available() else \"cpu\")\n",
    "print(f\"Using device: {device}\")"
   ]
  },
  {
   "cell_type": "code",
   "execution_count": 22,
   "metadata": {},
   "outputs": [],
   "source": [
    "class Attention(nn.Module):\n",
    "    def __init__(self, hidden_size):\n",
    "        super(Attention, self).__init__()\n",
    "        self.Wa = nn.Linear(hidden_size, hidden_size)\n",
    "        self.Ua = nn.Linear(hidden_size, hidden_size)\n",
    "        self.Va = nn.Linear(hidden_size, 1)\n",
    "\n",
    "    def forward(self, lstm_output):\n",
    "        scores = self.Va(torch.tanh(self.Wa(lstm_output) + self.Ua(lstm_output)))\n",
    "        attention_weights = torch.softmax(scores, dim=1)\n",
    "        \n",
    "        context_vector = torch.bmm(attention_weights.permute(0, 2, 1), lstm_output)\n",
    "        return context_vector.squeeze(1), attention_weights.squeeze(2)\n",
    "\n",
    "class BidirectionalLSTMModel(nn.Module):\n",
    "    def __init__(self, input_size, hidden_size, num_layers, num_classes):\n",
    "        super(BidirectionalLSTMModel, self).__init__()\n",
    "        self.hidden_size = hidden_size\n",
    "        self.num_layers = num_layers\n",
    "        \n",
    "        self.lstm = nn.LSTM(input_size, hidden_size, num_layers, \n",
    "                            batch_first=True, bidirectional=True)\n",
    "        self.attention = Attention(hidden_size * 2)  \n",
    "        self.fc = nn.Linear(hidden_size * 2, num_classes)  \n",
    "\n",
    "    def forward(self, x):\n",
    "        h0 = torch.zeros(self.num_layers * 2, x.size(0), self.hidden_size).to(device) \n",
    "        c0 = torch.zeros(self.num_layers * 2, x.size(0), self.hidden_size).to(device) \n",
    "        \n",
    "        out, _ = self.lstm(x, (h0, c0)) \n",
    "        \n",
    "\n",
    "        context_vector, attention_weights = self.attention(out)\n",
    "     \n",
    "        out = self.fc(context_vector)\n",
    "        return out"
   ]
  },
  {
   "cell_type": "code",
   "execution_count": 23,
   "metadata": {},
   "outputs": [],
   "source": [
    "input_size = fasttext_model.get_dimension()\n",
    "hidden_size = 256\n",
    "num_layers = 3\n",
    "num_classes = len(df['label'].unique())  \n",
    "num_epochs = 10\n",
    "learning_rate = 0.001"
   ]
  },
  {
   "cell_type": "code",
   "execution_count": 24,
   "metadata": {},
   "outputs": [
    {
     "data": {
      "text/plain": [
       "BidirectionalLSTMModel(\n",
       "  (lstm): LSTM(100, 256, num_layers=3, batch_first=True, bidirectional=True)\n",
       "  (attention): Attention(\n",
       "    (Wa): Linear(in_features=512, out_features=512, bias=True)\n",
       "    (Ua): Linear(in_features=512, out_features=512, bias=True)\n",
       "    (Va): Linear(in_features=512, out_features=1, bias=True)\n",
       "  )\n",
       "  (fc): Linear(in_features=512, out_features=5, bias=True)\n",
       ")"
      ]
     },
     "execution_count": 24,
     "metadata": {},
     "output_type": "execute_result"
    }
   ],
   "source": [
    "model = BidirectionalLSTMModel(input_size, hidden_size, num_layers, num_classes)\n",
    "model.to(device)"
   ]
  },
  {
   "cell_type": "code",
   "execution_count": 25,
   "metadata": {},
   "outputs": [],
   "source": [
    "def train_model(model, train_loader, test_loader, criterion, optimizer, num_epochs):\n",
    "    for epoch in range(num_epochs):\n",
    "        model.train()\n",
    "        total_train_loss = 0\n",
    "        correct_train_predictions = 0\n",
    "        \n",
    "        for texts, labels in tqdm(train_loader, desc=f\"Epoch {epoch + 1}/{num_epochs} - Training\", leave=False):\n",
    "            texts, labels = texts.to(device), labels.to(device)\n",
    "            outputs = model(texts)  # No unsqueeze here\n",
    "            loss = criterion(outputs, labels)\n",
    "            optimizer.zero_grad()\n",
    "            total_train_loss += loss.item()\n",
    "            \n",
    "            loss.backward()\n",
    "            optimizer.step()\n",
    "\n",
    "            _, predicted = torch.max(outputs.data, 1)\n",
    "            correct_train_predictions += (predicted == labels).sum().item()\n",
    "        \n",
    "        train_accuracy = correct_train_predictions / len(train_loader.dataset)\n",
    "        train_loss = total_train_loss / len(train_loader)\n",
    "        \n",
    "        model.eval()\n",
    "        total_test_loss = 0\n",
    "        correct_test_predictions = 0\n",
    "        \n",
    "        with torch.no_grad():\n",
    "            for texts, labels in tqdm(test_loader, desc=f\"Epoch {epoch + 1}/{num_epochs} - Testing\", leave=False):\n",
    "                texts, labels = texts.to(device), labels.to(device)\n",
    "                outputs = model(texts)  # No unsqueeze here\n",
    "                loss = criterion(outputs, labels)\n",
    "                total_test_loss += loss.item()\n",
    "                \n",
    "                _, predicted = torch.max(outputs.data, 1)\n",
    "                correct_test_predictions += (predicted == labels).sum().item()\n",
    "        \n",
    "        test_accuracy = correct_test_predictions / len(test_loader.dataset)\n",
    "        test_loss = total_test_loss / len(test_loader)\n",
    "        \n",
    "        print(f\"Epoch {epoch + 1}/{num_epochs}\")\n",
    "        print(f\"Train Loss: {train_loss:.4f}, Train Accuracy: {train_accuracy:.4f}\")\n",
    "        print(f\"Test Loss: {test_loss:.4f}, Test Accuracy: {test_accuracy:.4f}\")\n",
    "\n",
    "\n",
    "criterion = nn.CrossEntropyLoss()\n",
    "optimizer = optim.Adam(model.parameters(), lr=learning_rate)"
   ]
  },
  {
   "cell_type": "code",
   "execution_count": 13,
   "metadata": {},
   "outputs": [
    {
     "name": "stderr",
     "output_type": "stream",
     "text": [
      "                                                                          \r"
     ]
    },
    {
     "name": "stdout",
     "output_type": "stream",
     "text": [
      "Epoch 1/10\n",
      "Train Loss: 0.0464, Train Accuracy: 0.9885\n",
      "Test Loss: 0.0260, Test Accuracy: 0.9935\n"
     ]
    },
    {
     "name": "stderr",
     "output_type": "stream",
     "text": [
      "                                                                          \r"
     ]
    },
    {
     "name": "stdout",
     "output_type": "stream",
     "text": [
      "Epoch 2/10\n",
      "Train Loss: 0.0296, Train Accuracy: 0.9931\n",
      "Test Loss: 0.0218, Test Accuracy: 0.9943\n"
     ]
    },
    {
     "name": "stderr",
     "output_type": "stream",
     "text": [
      "                                                                          \r"
     ]
    },
    {
     "name": "stdout",
     "output_type": "stream",
     "text": [
      "Epoch 3/10\n",
      "Train Loss: 0.0242, Train Accuracy: 0.9939\n",
      "Test Loss: 0.0208, Test Accuracy: 0.9948\n"
     ]
    },
    {
     "name": "stderr",
     "output_type": "stream",
     "text": [
      "Epoch 4/10 - Training:  88%|████████▊ | 1156/1311 [02:14<00:14, 10.39it/s]"
     ]
    }
   ],
   "source": [
    "train_model(model, train_loader, test_loader, criterion, optimizer, num_epochs)\n",
    "torch.save(model.state_dict(), \"lstm_attention_model.pth\")"
   ]
  }
 ],
 "metadata": {
  "kernelspec": {
   "display_name": "fusemachines",
   "language": "python",
   "name": "python3"
  },
  "language_info": {
   "codemirror_mode": {
    "name": "ipython",
    "version": 3
   },
   "file_extension": ".py",
   "mimetype": "text/x-python",
   "name": "python",
   "nbconvert_exporter": "python",
   "pygments_lexer": "ipython3",
   "version": "3.12.4"
  }
 },
 "nbformat": 4,
 "nbformat_minor": 2
}

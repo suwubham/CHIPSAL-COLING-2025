{
 "cells": [
  {
   "cell_type": "code",
   "execution_count": 16,
   "metadata": {},
   "outputs": [],
   "source": [
    "import pandas as pd\n",
    "import matplotlib.pyplot as plt\n",
    "import seaborn as sns\n",
    "from sklearn.model_selection import train_test_split\n",
    "from sklearn.preprocessing import LabelEncoder\n",
    "import torch\n",
    "from torch.utils.data import Dataset, DataLoader\n",
    "import torch.nn as nn\n",
    "import torch.optim as optim\n",
    "from tqdm import tqdm\n",
    "import re\n",
    "import fasttext"
   ]
  },
  {
   "cell_type": "code",
   "execution_count": 17,
   "metadata": {},
   "outputs": [],
   "source": [
    "fasttext_model = fasttext.load_model('D:/Chipsal/Embeddings/devanagari_fasttext_cbow.bin')"
   ]
  },
  {
   "cell_type": "code",
   "execution_count": 18,
   "metadata": {},
   "outputs": [],
   "source": [
    "input_size = fasttext_model.get_dimension()\n",
    "hidden_size = 256\n",
    "num_layers = 3\n",
    "num_classes = 5\n",
    "num_epochs = 10\n",
    "learning_rate = 0.001"
   ]
  },
  {
   "cell_type": "code",
   "execution_count": 19,
   "metadata": {},
   "outputs": [],
   "source": [
    "class Attention(nn.Module):\n",
    "    def __init__(self, hidden_size):\n",
    "        super(Attention, self).__init__()\n",
    "        self.Wa = nn.Linear(hidden_size, hidden_size)\n",
    "        self.Ua = nn.Linear(hidden_size, hidden_size)\n",
    "        self.Va = nn.Linear(hidden_size, 1)\n",
    "\n",
    "    def forward(self, lstm_output):\n",
    "        scores = self.Va(torch.tanh(self.Wa(lstm_output) + self.Ua(lstm_output)))\n",
    "        attention_weights = torch.softmax(scores, dim=1)\n",
    "        \n",
    "        context_vector = torch.bmm(attention_weights.permute(0, 2, 1), lstm_output)\n",
    "        return context_vector.squeeze(1), attention_weights.squeeze(2)\n",
    "\n",
    "class BidirectionalLSTMModel(nn.Module):\n",
    "    def __init__(self, input_size, hidden_size, num_layers, num_classes):\n",
    "        super(BidirectionalLSTMModel, self).__init__()\n",
    "        self.hidden_size = hidden_size\n",
    "        self.num_layers = num_layers\n",
    "        \n",
    "        self.lstm = nn.LSTM(input_size, hidden_size, num_layers, \n",
    "                            batch_first=True, bidirectional=True)\n",
    "        self.attention = Attention(hidden_size * 2)  \n",
    "        self.fc = nn.Linear(hidden_size * 2, num_classes)  \n",
    "\n",
    "    def forward(self, x):\n",
    "        h0 = torch.zeros(self.num_layers * 2, x.size(0), self.hidden_size).to(device) \n",
    "        c0 = torch.zeros(self.num_layers * 2, x.size(0), self.hidden_size).to(device) \n",
    "        \n",
    "        out, _ = self.lstm(x, (h0, c0)) \n",
    "        \n",
    "\n",
    "        context_vector, attention_weights = self.attention(out)\n",
    "     \n",
    "        out = self.fc(context_vector)\n",
    "        return out"
   ]
  },
  {
   "cell_type": "code",
   "execution_count": 20,
   "metadata": {},
   "outputs": [],
   "source": [
    "class DevanagariDataset(Dataset):\n",
    "    def __init__(self, texts, max_length=50):\n",
    "        self.texts = texts.tolist()  \n",
    "        self.max_length = max_length\n",
    "    \n",
    "    def __len__(self):\n",
    "        return len(self.texts)\n",
    "    \n",
    "    def __getitem__(self, idx):\n",
    "        words = self.texts[idx].split()  \n",
    "        \n",
    "        embeddings = [torch.tensor(fasttext_model.get_word_vector(word)) for word in words]\n",
    "        \n",
    "        if len(embeddings) > self.max_length:\n",
    "            embeddings = embeddings[:self.max_length]  \n",
    "        else:\n",
    "            padding = [torch.zeros(fasttext_model.get_dimension())] * (self.max_length - len(embeddings))  \n",
    "            embeddings.extend(padding)\n",
    "        \n",
    "        text_tensor = torch.stack(embeddings)\n",
    "\n",
    "        return text_tensor"
   ]
  },
  {
   "cell_type": "code",
   "execution_count": 21,
   "metadata": {},
   "outputs": [],
   "source": [
    "test_df = pd.read_csv(\"D:/Chipsal/ST1/datasets/test.csv\")  \n",
    "test_dataset = DevanagariDataset(test_df[\"text\"])\n",
    "test_loader = DataLoader(test_dataset, batch_size=32, shuffle=False)"
   ]
  },
  {
   "cell_type": "code",
   "execution_count": 22,
   "metadata": {},
   "outputs": [
    {
     "data": {
      "text/plain": [
       "BidirectionalLSTMModel(\n",
       "  (lstm): LSTM(100, 256, num_layers=3, batch_first=True, bidirectional=True)\n",
       "  (attention): Attention(\n",
       "    (Wa): Linear(in_features=512, out_features=512, bias=True)\n",
       "    (Ua): Linear(in_features=512, out_features=512, bias=True)\n",
       "    (Va): Linear(in_features=512, out_features=1, bias=True)\n",
       "  )\n",
       "  (fc): Linear(in_features=512, out_features=5, bias=True)\n",
       ")"
      ]
     },
     "execution_count": 22,
     "metadata": {},
     "output_type": "execute_result"
    }
   ],
   "source": [
    "model = BidirectionalLSTMModel(input_size, hidden_size, num_layers, num_classes)\n",
    "model.load_state_dict(torch.load(\"D:/Chipsal/ST1/lstm_attention_model.pth\"))\n",
    "model.eval()\n",
    "device = torch.device(\"cuda\" if torch.cuda.is_available() else \"cpu\")\n",
    "model.to(device)"
   ]
  },
  {
   "cell_type": "code",
   "execution_count": 24,
   "metadata": {},
   "outputs": [],
   "source": [
    "predictions = []\n",
    "with torch.no_grad():\n",
    "    for texts in test_loader:\n",
    "        texts = texts.to(device)\n",
    "        outputs = model(texts)\n",
    "        _, predicted = torch.max(outputs.data, 1)\n",
    "        predictions.extend(predicted.cpu().numpy())\n",
    "\n",
    "# Save predictions to a DataFrame\n",
    "test_df['prediction'] = predictions"
   ]
  },
  {
   "cell_type": "code",
   "execution_count": 25,
   "metadata": {},
   "outputs": [
    {
     "data": {
      "text/html": [
       "<div>\n",
       "<style scoped>\n",
       "    .dataframe tbody tr th:only-of-type {\n",
       "        vertical-align: middle;\n",
       "    }\n",
       "\n",
       "    .dataframe tbody tr th {\n",
       "        vertical-align: top;\n",
       "    }\n",
       "\n",
       "    .dataframe thead th {\n",
       "        text-align: right;\n",
       "    }\n",
       "</style>\n",
       "<table border=\"1\" class=\"dataframe\">\n",
       "  <thead>\n",
       "    <tr style=\"text-align: right;\">\n",
       "      <th></th>\n",
       "      <th>index</th>\n",
       "      <th>text</th>\n",
       "      <th>prediction</th>\n",
       "    </tr>\n",
       "  </thead>\n",
       "  <tbody>\n",
       "    <tr>\n",
       "      <th>0</th>\n",
       "      <td>10004</td>\n",
       "      <td>त्यो आँ गरेको अन्वार मा झिँगा पस्न सक्छ है? हि...</td>\n",
       "      <td>0</td>\n",
       "    </tr>\n",
       "    <tr>\n",
       "      <th>1</th>\n",
       "      <td>10005</td>\n",
       "      <td>निर्वाचन परिणाम ले बल्ल बुद्धि आयो?</td>\n",
       "      <td>0</td>\n",
       "    </tr>\n",
       "    <tr>\n",
       "      <th>2</th>\n",
       "      <td>10007</td>\n",
       "      <td>पोखराको मेयर उम्मेदवारी दिन कृष्ण थापाले दिए स...</td>\n",
       "      <td>0</td>\n",
       "    </tr>\n",
       "    <tr>\n",
       "      <th>3</th>\n",
       "      <td>10011</td>\n",
       "      <td>दलित महिला सदस्यमा उम्मेदवारी परेन</td>\n",
       "      <td>0</td>\n",
       "    </tr>\n",
       "    <tr>\n",
       "      <th>4</th>\n",
       "      <td>10018</td>\n",
       "      <td>पार्टी निर्णय बिपरीत उम्मेद्वारी दिने दिनेलाई ...</td>\n",
       "      <td>0</td>\n",
       "    </tr>\n",
       "    <tr>\n",
       "      <th>...</th>\n",
       "      <td>...</td>\n",
       "      <td>...</td>\n",
       "      <td>...</td>\n",
       "    </tr>\n",
       "    <tr>\n",
       "      <th>11229</th>\n",
       "      <td>84860</td>\n",
       "      <td>राज्य सरकारला पाच वर्षे होत आले आहेत मात्र हे ...</td>\n",
       "      <td>1</td>\n",
       "    </tr>\n",
       "    <tr>\n",
       "      <th>11230</th>\n",
       "      <td>84862</td>\n",
       "      <td>महाविकास आघाडी बाबुभैया, “हेराफेरी”तो है!राज्य...</td>\n",
       "      <td>1</td>\n",
       "    </tr>\n",
       "    <tr>\n",
       "      <th>11231</th>\n",
       "      <td>84865</td>\n",
       "      <td>एकात्मिक बालविकास कार्यक्रमाअंतर्गत कोल्हापूर ...</td>\n",
       "      <td>1</td>\n",
       "    </tr>\n",
       "    <tr>\n",
       "      <th>11232</th>\n",
       "      <td>84876</td>\n",
       "      <td>अत्यल्प भाव मिळालेल्या शेतकऱ्यांना किमान कोटी ...</td>\n",
       "      <td>1</td>\n",
       "    </tr>\n",
       "    <tr>\n",
       "      <th>11233</th>\n",
       "      <td>84880</td>\n",
       "      <td>पंढरपूरच्या वारीमध्ये मनुवादी, सनातनी विचारांच...</td>\n",
       "      <td>1</td>\n",
       "    </tr>\n",
       "  </tbody>\n",
       "</table>\n",
       "<p>11234 rows × 3 columns</p>\n",
       "</div>"
      ],
      "text/plain": [
       "       index                                               text  prediction\n",
       "0      10004  त्यो आँ गरेको अन्वार मा झिँगा पस्न सक्छ है? हि...           0\n",
       "1      10005                निर्वाचन परिणाम ले बल्ल बुद्धि आयो?           0\n",
       "2      10007  पोखराको मेयर उम्मेदवारी दिन कृष्ण थापाले दिए स...           0\n",
       "3      10011                 दलित महिला सदस्यमा उम्मेदवारी परेन           0\n",
       "4      10018  पार्टी निर्णय बिपरीत उम्मेद्वारी दिने दिनेलाई ...           0\n",
       "...      ...                                                ...         ...\n",
       "11229  84860  राज्य सरकारला पाच वर्षे होत आले आहेत मात्र हे ...           1\n",
       "11230  84862  महाविकास आघाडी बाबुभैया, “हेराफेरी”तो है!राज्य...           1\n",
       "11231  84865  एकात्मिक बालविकास कार्यक्रमाअंतर्गत कोल्हापूर ...           1\n",
       "11232  84876  अत्यल्प भाव मिळालेल्या शेतकऱ्यांना किमान कोटी ...           1\n",
       "11233  84880  पंढरपूरच्या वारीमध्ये मनुवादी, सनातनी विचारांच...           1\n",
       "\n",
       "[11234 rows x 3 columns]"
      ]
     },
     "execution_count": 25,
     "metadata": {},
     "output_type": "execute_result"
    }
   ],
   "source": [
    "test_df"
   ]
  },
  {
   "cell_type": "code",
   "execution_count": 26,
   "metadata": {},
   "outputs": [],
   "source": [
    "test_df.drop(columns=['text'], inplace=True)"
   ]
  },
  {
   "cell_type": "code",
   "execution_count": 27,
   "metadata": {},
   "outputs": [
    {
     "data": {
      "text/html": [
       "<div>\n",
       "<style scoped>\n",
       "    .dataframe tbody tr th:only-of-type {\n",
       "        vertical-align: middle;\n",
       "    }\n",
       "\n",
       "    .dataframe tbody tr th {\n",
       "        vertical-align: top;\n",
       "    }\n",
       "\n",
       "    .dataframe thead th {\n",
       "        text-align: right;\n",
       "    }\n",
       "</style>\n",
       "<table border=\"1\" class=\"dataframe\">\n",
       "  <thead>\n",
       "    <tr style=\"text-align: right;\">\n",
       "      <th></th>\n",
       "      <th>index</th>\n",
       "      <th>prediction</th>\n",
       "    </tr>\n",
       "  </thead>\n",
       "  <tbody>\n",
       "    <tr>\n",
       "      <th>0</th>\n",
       "      <td>10004</td>\n",
       "      <td>0</td>\n",
       "    </tr>\n",
       "    <tr>\n",
       "      <th>1</th>\n",
       "      <td>10005</td>\n",
       "      <td>0</td>\n",
       "    </tr>\n",
       "    <tr>\n",
       "      <th>2</th>\n",
       "      <td>10007</td>\n",
       "      <td>0</td>\n",
       "    </tr>\n",
       "    <tr>\n",
       "      <th>3</th>\n",
       "      <td>10011</td>\n",
       "      <td>0</td>\n",
       "    </tr>\n",
       "    <tr>\n",
       "      <th>4</th>\n",
       "      <td>10018</td>\n",
       "      <td>0</td>\n",
       "    </tr>\n",
       "  </tbody>\n",
       "</table>\n",
       "</div>"
      ],
      "text/plain": [
       "   index  prediction\n",
       "0  10004           0\n",
       "1  10005           0\n",
       "2  10007           0\n",
       "3  10011           0\n",
       "4  10018           0"
      ]
     },
     "execution_count": 27,
     "metadata": {},
     "output_type": "execute_result"
    }
   ],
   "source": [
    "test_df = test_df.sort_values(by=\"index\")\n",
    "test_df.head()"
   ]
  },
  {
   "cell_type": "code",
   "execution_count": 28,
   "metadata": {},
   "outputs": [],
   "source": [
    "output_file_path = 'output.txt'\n",
    "\n",
    "# Write the DataFrame to a text file in the desired format\n",
    "with open(output_file_path, 'w') as f:\n",
    "    for index, row in test_df.iterrows():\n",
    "        f.write(f'{{\"index\": {row[\"index\"]}, \"prediction\": {row[\"prediction\"]}}}\\n')"
   ]
  }
 ],
 "metadata": {
  "kernelspec": {
   "display_name": "fusemachines",
   "language": "python",
   "name": "python3"
  },
  "language_info": {
   "codemirror_mode": {
    "name": "ipython",
    "version": 3
   },
   "file_extension": ".py",
   "mimetype": "text/x-python",
   "name": "python",
   "nbconvert_exporter": "python",
   "pygments_lexer": "ipython3",
   "version": "3.12.4"
  }
 },
 "nbformat": 4,
 "nbformat_minor": 2
}

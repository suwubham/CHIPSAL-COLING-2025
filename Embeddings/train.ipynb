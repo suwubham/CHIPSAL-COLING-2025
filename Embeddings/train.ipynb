{
 "cells": [
  {
   "cell_type": "code",
   "execution_count": 1,
   "metadata": {},
   "outputs": [],
   "source": [
    "import fasttext\n",
    "import pandas as pd\n",
    "import re"
   ]
  },
  {
   "cell_type": "code",
   "execution_count": 26,
   "metadata": {},
   "outputs": [
    {
     "data": {
      "text/html": [
       "<div>\n",
       "<style scoped>\n",
       "    .dataframe tbody tr th:only-of-type {\n",
       "        vertical-align: middle;\n",
       "    }\n",
       "\n",
       "    .dataframe tbody tr th {\n",
       "        vertical-align: top;\n",
       "    }\n",
       "\n",
       "    .dataframe thead th {\n",
       "        text-align: right;\n",
       "    }\n",
       "</style>\n",
       "<table border=\"1\" class=\"dataframe\">\n",
       "  <thead>\n",
       "    <tr style=\"text-align: right;\">\n",
       "      <th></th>\n",
       "      <th>index</th>\n",
       "      <th>text</th>\n",
       "      <th>label</th>\n",
       "    </tr>\n",
       "  </thead>\n",
       "  <tbody>\n",
       "    <tr>\n",
       "      <th>0</th>\n",
       "      <td>10000</td>\n",
       "      <td>निर्वाचन आयोगले गति छाड्यो</td>\n",
       "      <td>0</td>\n",
       "    </tr>\n",
       "    <tr>\n",
       "      <th>1</th>\n",
       "      <td>10001</td>\n",
       "      <td>जीतपुरसिमराः एमालेबाट चौधरी र अधिकारीले गरे उम...</td>\n",
       "      <td>0</td>\n",
       "    </tr>\n",
       "    <tr>\n",
       "      <th>2</th>\n",
       "      <td>10002</td>\n",
       "      <td>दलहरुको घरदैलो कार्यक्रममा ठुलो ठुलो आवाजमा स्...</td>\n",
       "      <td>0</td>\n",
       "    </tr>\n",
       "    <tr>\n",
       "      <th>3</th>\n",
       "      <td>10003</td>\n",
       "      <td>म पनि त्यही सोचेको, अब पनि भुई कटहर लाई भोट न...</td>\n",
       "      <td>0</td>\n",
       "    </tr>\n",
       "    <tr>\n",
       "      <th>4</th>\n",
       "      <td>10006</td>\n",
       "      <td>शिक्षकबाट राजीनामा नदिई उपमेयरमा उम्मेदवारी दर्ता</td>\n",
       "      <td>0</td>\n",
       "    </tr>\n",
       "  </tbody>\n",
       "</table>\n",
       "</div>"
      ],
      "text/plain": [
       "   index                                               text  label\n",
       "0  10000                         निर्वाचन आयोगले गति छाड्यो      0\n",
       "1  10001  जीतपुरसिमराः एमालेबाट चौधरी र अधिकारीले गरे उम...      0\n",
       "2  10002  दलहरुको घरदैलो कार्यक्रममा ठुलो ठुलो आवाजमा स्...      0\n",
       "3  10003   म पनि त्यही सोचेको, अब पनि भुई कटहर लाई भोट न...      0\n",
       "4  10006  शिक्षकबाट राजीनामा नदिई उपमेयरमा उम्मेदवारी दर्ता      0"
      ]
     },
     "execution_count": 26,
     "metadata": {},
     "output_type": "execute_result"
    }
   ],
   "source": [
    "df = pd.read_csv(\"../ST1/datasets/train.csv\")\n",
    "df.dropna(subset=['text'], inplace=True)\n",
    "df.head()"
   ]
  },
  {
   "cell_type": "code",
   "execution_count": 27,
   "metadata": {},
   "outputs": [],
   "source": [
    "def preprocess_text(text):\n",
    "    pattern = r'[॥।॰،۔؟٪×÷!@#$%^&*()_+={}\\[\\]:;\"\\'<>,.?/~`|-]'\n",
    "    text = re.sub(r'[०१२३४५६७८९0-9]', '', text)\n",
    "    clean_text = re.sub(pattern, '', text)\n",
    "    clean_text.strip()\n",
    "    return clean_text\n",
    "\n",
    "df['text'] = df['text'].apply(preprocess_text)\n",
    "df[\"text\"] = df['text'].str.strip()"
   ]
  },
  {
   "cell_type": "code",
   "execution_count": 28,
   "metadata": {},
   "outputs": [
    {
     "data": {
      "text/html": [
       "<div>\n",
       "<style scoped>\n",
       "    .dataframe tbody tr th:only-of-type {\n",
       "        vertical-align: middle;\n",
       "    }\n",
       "\n",
       "    .dataframe tbody tr th {\n",
       "        vertical-align: top;\n",
       "    }\n",
       "\n",
       "    .dataframe thead th {\n",
       "        text-align: right;\n",
       "    }\n",
       "</style>\n",
       "<table border=\"1\" class=\"dataframe\">\n",
       "  <thead>\n",
       "    <tr style=\"text-align: right;\">\n",
       "      <th></th>\n",
       "      <th>index</th>\n",
       "      <th>text</th>\n",
       "      <th>label</th>\n",
       "    </tr>\n",
       "  </thead>\n",
       "  <tbody>\n",
       "    <tr>\n",
       "      <th>0</th>\n",
       "      <td>10000</td>\n",
       "      <td>निर्वाचन आयोगले गति छाड्यो</td>\n",
       "      <td>0</td>\n",
       "    </tr>\n",
       "    <tr>\n",
       "      <th>1</th>\n",
       "      <td>10001</td>\n",
       "      <td>जीतपुरसिमराः एमालेबाट चौधरी र अधिकारीले गरे उम...</td>\n",
       "      <td>0</td>\n",
       "    </tr>\n",
       "    <tr>\n",
       "      <th>2</th>\n",
       "      <td>10002</td>\n",
       "      <td>दलहरुको घरदैलो कार्यक्रममा ठुलो ठुलो आवाजमा स्...</td>\n",
       "      <td>0</td>\n",
       "    </tr>\n",
       "    <tr>\n",
       "      <th>3</th>\n",
       "      <td>10003</td>\n",
       "      <td>म पनि त्यही सोचेको अब पनि भुई कटहर लाई भोट नहा...</td>\n",
       "      <td>0</td>\n",
       "    </tr>\n",
       "    <tr>\n",
       "      <th>4</th>\n",
       "      <td>10006</td>\n",
       "      <td>शिक्षकबाट राजीनामा नदिई उपमेयरमा उम्मेदवारी दर्ता</td>\n",
       "      <td>0</td>\n",
       "    </tr>\n",
       "  </tbody>\n",
       "</table>\n",
       "</div>"
      ],
      "text/plain": [
       "   index                                               text  label\n",
       "0  10000                         निर्वाचन आयोगले गति छाड्यो      0\n",
       "1  10001  जीतपुरसिमराः एमालेबाट चौधरी र अधिकारीले गरे उम...      0\n",
       "2  10002  दलहरुको घरदैलो कार्यक्रममा ठुलो ठुलो आवाजमा स्...      0\n",
       "3  10003  म पनि त्यही सोचेको अब पनि भुई कटहर लाई भोट नहा...      0\n",
       "4  10006  शिक्षकबाट राजीनामा नदिई उपमेयरमा उम्मेदवारी दर्ता      0"
      ]
     },
     "execution_count": 28,
     "metadata": {},
     "output_type": "execute_result"
    }
   ],
   "source": [
    "df.head()"
   ]
  },
  {
   "cell_type": "code",
   "execution_count": 29,
   "metadata": {},
   "outputs": [],
   "source": [
    "df['text'].to_csv('devanagari_corpus.txt', index=False, header=False)"
   ]
  },
  {
   "cell_type": "code",
   "execution_count": 2,
   "metadata": {},
   "outputs": [
    {
     "ename": "ValueError",
     "evalue": "devanagari_fasttext_cbow.txt cannot be opened for training!",
     "output_type": "error",
     "traceback": [
      "\u001b[1;31m---------------------------------------------------------------------------\u001b[0m",
      "\u001b[1;31mValueError\u001b[0m                                Traceback (most recent call last)",
      "Cell \u001b[1;32mIn[2], line 1\u001b[0m\n\u001b[1;32m----> 1\u001b[0m model \u001b[38;5;241m=\u001b[39m \u001b[43mfasttext\u001b[49m\u001b[38;5;241;43m.\u001b[39;49m\u001b[43mtrain_unsupervised\u001b[49m\u001b[43m(\u001b[49m\u001b[38;5;124;43m'\u001b[39;49m\u001b[38;5;124;43mdevanagari_fasttext_cbow.txt\u001b[39;49m\u001b[38;5;124;43m'\u001b[39;49m\u001b[43m,\u001b[49m\u001b[43m \u001b[49m\u001b[43mmodel\u001b[49m\u001b[38;5;241;43m=\u001b[39;49m\u001b[38;5;124;43m'\u001b[39;49m\u001b[38;5;124;43mcbow\u001b[39;49m\u001b[38;5;124;43m'\u001b[39;49m\u001b[43m,\u001b[49m\u001b[43m \u001b[49m\u001b[43mdim\u001b[49m\u001b[38;5;241;43m=\u001b[39;49m\u001b[38;5;241;43m100\u001b[39;49m\u001b[43m)\u001b[49m\n\u001b[0;32m      2\u001b[0m model\u001b[38;5;241m.\u001b[39msave_model(\u001b[38;5;124m'\u001b[39m\u001b[38;5;124mdevanagari_fasttext.bin\u001b[39m\u001b[38;5;124m'\u001b[39m)\n",
      "File \u001b[1;32mf:\\anaconda3\\envs\\fusemachines\\Lib\\site-packages\\fasttext\\FastText.py:554\u001b[0m, in \u001b[0;36mtrain_unsupervised\u001b[1;34m(*kargs, **kwargs)\u001b[0m\n\u001b[0;32m    552\u001b[0m a \u001b[38;5;241m=\u001b[39m _build_args(args, manually_set_args)\n\u001b[0;32m    553\u001b[0m ft \u001b[38;5;241m=\u001b[39m _FastText(args\u001b[38;5;241m=\u001b[39ma)\n\u001b[1;32m--> 554\u001b[0m \u001b[43mfasttext\u001b[49m\u001b[38;5;241;43m.\u001b[39;49m\u001b[43mtrain\u001b[49m\u001b[43m(\u001b[49m\u001b[43mft\u001b[49m\u001b[38;5;241;43m.\u001b[39;49m\u001b[43mf\u001b[49m\u001b[43m,\u001b[49m\u001b[43m \u001b[49m\u001b[43ma\u001b[49m\u001b[43m)\u001b[49m\n\u001b[0;32m    555\u001b[0m ft\u001b[38;5;241m.\u001b[39mset_args(ft\u001b[38;5;241m.\u001b[39mf\u001b[38;5;241m.\u001b[39mgetArgs())\n\u001b[0;32m    556\u001b[0m \u001b[38;5;28;01mreturn\u001b[39;00m ft\n",
      "\u001b[1;31mValueError\u001b[0m: devanagari_fasttext_cbow.txt cannot be opened for training!"
     ]
    }
   ],
   "source": [
    "model = fasttext.train_unsupervised('devanagari_fasttext_cbow.txt', model='cbow', dim=100)\n",
    "model.save_model('devanagari_fasttext.bin')"
   ]
  },
  {
   "cell_type": "code",
   "execution_count": 5,
   "metadata": {},
   "outputs": [],
   "source": [
    "model = fasttext.load_model('devanagari_fasttext_cbow.bin')\n",
    "\n",
    "# Example of getting word vectors\n",
    "word_vector = model.get_word_vector('नमस्ते')"
   ]
  },
  {
   "cell_type": "code",
   "execution_count": 6,
   "metadata": {},
   "outputs": [
    {
     "data": {
      "text/plain": [
       "array([ 0.08395086,  0.03205024,  0.06881314,  0.21354595,  0.10691074,\n",
       "       -0.23638314, -0.15535241,  0.08098622,  0.00141837,  0.07606151,\n",
       "       -0.0575876 ,  0.45477125, -0.45174327,  0.07463486,  0.3339947 ,\n",
       "       -0.08153555, -0.01849344, -0.08115477,  0.32838058,  0.31261665,\n",
       "        0.39497414,  0.30843097, -0.0615    , -0.1426216 ,  0.23549028,\n",
       "        0.12853532, -0.02094516,  0.39592063, -0.48978293,  0.01823314,\n",
       "        0.00566877, -0.45069936,  0.12867971,  0.91924417, -0.2643101 ,\n",
       "        0.5134466 , -0.18648455,  0.2986535 , -0.18700178, -0.39995334,\n",
       "       -0.29074   ,  0.39593226, -0.46191385,  0.34206933,  0.22203104,\n",
       "       -0.08735243, -0.02919619, -0.33104095, -0.5477306 , -0.2561505 ,\n",
       "       -0.47376677,  0.4828682 , -0.14731914, -0.1108421 , -0.13700503,\n",
       "       -0.11334472,  0.09682843, -0.3747923 , -0.23446779,  0.37902978,\n",
       "        0.26166108, -0.1637162 , -0.00482171,  0.07651342,  0.16601896,\n",
       "       -0.20783028, -0.20762688, -0.00270396,  0.09082513, -0.60350716,\n",
       "       -0.38292846,  0.6644007 ,  0.32069868,  0.30163017,  0.07510008,\n",
       "        0.3972506 ,  0.14116533,  0.20439674, -0.10324448, -0.2836572 ,\n",
       "       -0.41619578,  0.30916828,  0.02374328, -0.13428643, -0.5383032 ,\n",
       "        0.18442804,  0.12999366, -0.11545638,  0.34308693, -0.30821204,\n",
       "       -0.22192094, -0.2758742 ,  0.26554137,  0.21481895,  0.3736831 ,\n",
       "       -0.10561198,  0.5214741 ,  0.11830433, -0.04232193,  0.41304877],\n",
       "      dtype=float32)"
      ]
     },
     "execution_count": 6,
     "metadata": {},
     "output_type": "execute_result"
    }
   ],
   "source": [
    "word_vector"
   ]
  },
  {
   "cell_type": "code",
   "execution_count": 33,
   "metadata": {},
   "outputs": [
    {
     "data": {
      "text/plain": [
       "[(0.989395797252655, 'राम्रोसँग'),\n",
       " (0.9835736751556396, 'राम्रै'),\n",
       " (0.9821457862854004, 'राम्रोलाई'),\n",
       " (0.9763311147689819, 'हरुलाइ'),\n",
       " (0.9729809761047363, 'अरुलाइ'),\n",
       " (0.970034122467041, 'राख्नु'),\n",
       " (0.9693865180015564, 'भन्दिनु'),\n",
       " (0.9667471051216125, 'कुन'),\n",
       " (0.9666568636894226, 'नजित्ने'),\n",
       " (0.9665181636810303, 'राम्रालाई')]"
      ]
     },
     "execution_count": 33,
     "metadata": {},
     "output_type": "execute_result"
    }
   ],
   "source": [
    "model.get_nearest_neighbors(\"राम्रो\")"
   ]
  }
 ],
 "metadata": {
  "kernelspec": {
   "display_name": "fusemachines",
   "language": "python",
   "name": "python3"
  },
  "language_info": {
   "codemirror_mode": {
    "name": "ipython",
    "version": 3
   },
   "file_extension": ".py",
   "mimetype": "text/x-python",
   "name": "python",
   "nbconvert_exporter": "python",
   "pygments_lexer": "ipython3",
   "version": "3.12.4"
  }
 },
 "nbformat": 4,
 "nbformat_minor": 2
}

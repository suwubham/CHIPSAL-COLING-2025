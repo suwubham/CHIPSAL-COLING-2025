{
 "cells": [
  {
   "cell_type": "code",
   "execution_count": 29,
   "metadata": {},
   "outputs": [],
   "source": [
    "import pandas as pd\n",
    "import matplotlib.pyplot as plt\n",
    "import seaborn as sns\n",
    "from sklearn.model_selection import train_test_split\n",
    "from sklearn.preprocessing import LabelEncoder\n",
    "import torch\n",
    "from torch.utils.data import Dataset, DataLoader\n",
    "import torch.nn as nn\n",
    "import torch.optim as optim\n",
    "from tqdm import tqdm\n",
    "import re\n",
    "import fasttext"
   ]
  },
  {
   "cell_type": "code",
   "execution_count": 30,
   "metadata": {},
   "outputs": [],
   "source": [
    "fasttext_model = fasttext.load_model('D:/Chipsal/Embeddings/devanagari_fasttext_cbow.bin')"
   ]
  },
  {
   "cell_type": "code",
   "execution_count": 31,
   "metadata": {},
   "outputs": [],
   "source": [
    "input_size = fasttext_model.get_dimension()\n",
    "hidden_size = 256\n",
    "num_layers = 3\n",
    "num_classes = 2\n",
    "num_epochs = 10\n",
    "learning_rate = 0.001"
   ]
  },
  {
   "cell_type": "code",
   "execution_count": 32,
   "metadata": {},
   "outputs": [],
   "source": [
    "class Attention(nn.Module):\n",
    "    def __init__(self, hidden_size):\n",
    "        super(Attention, self).__init__()\n",
    "        self.Wa = nn.Linear(hidden_size, hidden_size)\n",
    "        self.Ua = nn.Linear(hidden_size, hidden_size)\n",
    "        self.Va = nn.Linear(hidden_size, 1)\n",
    "\n",
    "    def forward(self, lstm_output):\n",
    "        scores = self.Va(torch.tanh(self.Wa(lstm_output) + self.Ua(lstm_output)))\n",
    "        attention_weights = torch.softmax(scores, dim=1)\n",
    "        \n",
    "        context_vector = torch.bmm(attention_weights.permute(0, 2, 1), lstm_output)\n",
    "        return context_vector.squeeze(1), attention_weights.squeeze(2)\n",
    "\n",
    "class BidirectionalLSTMModel(nn.Module):\n",
    "    def __init__(self, input_size, hidden_size, num_layers, num_classes):\n",
    "        super(BidirectionalLSTMModel, self).__init__()\n",
    "        self.hidden_size = hidden_size\n",
    "        self.num_layers = num_layers\n",
    "        \n",
    "        self.lstm = nn.LSTM(input_size, hidden_size, num_layers, \n",
    "                            batch_first=True, bidirectional=True)\n",
    "        self.attention = Attention(hidden_size * 2)  \n",
    "        self.fc = nn.Linear(hidden_size * 2, num_classes)  \n",
    "\n",
    "    def forward(self, x):\n",
    "        h0 = torch.zeros(self.num_layers * 2, x.size(0), self.hidden_size).to(device) \n",
    "        c0 = torch.zeros(self.num_layers * 2, x.size(0), self.hidden_size).to(device) \n",
    "        \n",
    "        out, _ = self.lstm(x, (h0, c0)) \n",
    "        \n",
    "\n",
    "        context_vector, attention_weights = self.attention(out)\n",
    "     \n",
    "        out = self.fc(context_vector)\n",
    "        return out"
   ]
  },
  {
   "cell_type": "code",
   "execution_count": 33,
   "metadata": {},
   "outputs": [],
   "source": [
    "class DevanagariDataset(Dataset):\n",
    "    def __init__(self, texts, max_length=50):\n",
    "        self.texts = texts.tolist()  \n",
    "        self.max_length = max_length\n",
    "    \n",
    "    def __len__(self):\n",
    "        return len(self.texts)\n",
    "    \n",
    "    def __getitem__(self, idx):\n",
    "        words = self.texts[idx].split()  \n",
    "        \n",
    "        embeddings = [torch.tensor(fasttext_model.get_word_vector(word)) for word in words]\n",
    "        \n",
    "        if len(embeddings) > self.max_length:\n",
    "            embeddings = embeddings[:self.max_length]  \n",
    "        else:\n",
    "            padding = [torch.zeros(fasttext_model.get_dimension())] * (self.max_length - len(embeddings))  \n",
    "            embeddings.extend(padding)\n",
    "        \n",
    "        text_tensor = torch.stack(embeddings)\n",
    "\n",
    "        return text_tensor"
   ]
  },
  {
   "cell_type": "code",
   "execution_count": 34,
   "metadata": {},
   "outputs": [],
   "source": [
    "test_df = pd.read_csv(\"../datasets/test.csv\")  "
   ]
  },
  {
   "cell_type": "code",
   "execution_count": 35,
   "metadata": {},
   "outputs": [],
   "source": [
    "def preprocess_text(text):\n",
    "    pattern = r'[॥।॰،۔؟٪×÷!@#$%^&*()_+={}\\[\\]:;\"\\'<>,.?/~`|-]'\n",
    "    text = re.sub(r'[०१२३४५६७८९0-9]', '', text)\n",
    "    clean_text = re.sub(pattern, '', text)\n",
    "    clean_text.strip()\n",
    "    return clean_text\n",
    "\n",
    "test_df['tweet'] = test_df['tweet'].apply(preprocess_text)\n",
    "test_df[\"tweet\"] = test_df['tweet'].str.strip()"
   ]
  },
  {
   "cell_type": "code",
   "execution_count": 36,
   "metadata": {},
   "outputs": [],
   "source": [
    "test_dataset = DevanagariDataset(test_df[\"tweet\"])\n",
    "test_loader = DataLoader(test_dataset, batch_size=32, shuffle=False)"
   ]
  },
  {
   "cell_type": "code",
   "execution_count": 37,
   "metadata": {},
   "outputs": [
    {
     "data": {
      "text/plain": [
       "BidirectionalLSTMModel(\n",
       "  (lstm): LSTM(100, 256, num_layers=3, batch_first=True, bidirectional=True)\n",
       "  (attention): Attention(\n",
       "    (Wa): Linear(in_features=512, out_features=512, bias=True)\n",
       "    (Ua): Linear(in_features=512, out_features=512, bias=True)\n",
       "    (Va): Linear(in_features=512, out_features=1, bias=True)\n",
       "  )\n",
       "  (fc): Linear(in_features=512, out_features=2, bias=True)\n",
       ")"
      ]
     },
     "execution_count": 37,
     "metadata": {},
     "output_type": "execute_result"
    }
   ],
   "source": [
    "model = BidirectionalLSTMModel(input_size, hidden_size, num_layers, num_classes)\n",
    "model.load_state_dict(torch.load(\"../models/lstm_attention_model-st2.pth\"))\n",
    "model.eval()\n",
    "device = torch.device(\"cuda\" if torch.cuda.is_available() else \"cpu\")\n",
    "model.to(device)"
   ]
  },
  {
   "cell_type": "code",
   "execution_count": 38,
   "metadata": {},
   "outputs": [],
   "source": [
    "predictions = []\n",
    "with torch.no_grad():\n",
    "    for texts in test_loader:\n",
    "        texts = texts.to(device)\n",
    "        outputs = model(texts)\n",
    "        _, predicted = torch.max(outputs.data, 1)\n",
    "        predictions.extend(predicted.cpu().numpy())\n",
    "\n",
    "# Save predictions to a DataFrame\n",
    "test_df['prediction'] = predictions"
   ]
  },
  {
   "cell_type": "code",
   "execution_count": 39,
   "metadata": {},
   "outputs": [
    {
     "data": {
      "text/html": [
       "<div>\n",
       "<style scoped>\n",
       "    .dataframe tbody tr th:only-of-type {\n",
       "        vertical-align: middle;\n",
       "    }\n",
       "\n",
       "    .dataframe tbody tr th {\n",
       "        vertical-align: top;\n",
       "    }\n",
       "\n",
       "    .dataframe thead th {\n",
       "        text-align: right;\n",
       "    }\n",
       "</style>\n",
       "<table border=\"1\" class=\"dataframe\">\n",
       "  <thead>\n",
       "    <tr style=\"text-align: right;\">\n",
       "      <th></th>\n",
       "      <th>index</th>\n",
       "      <th>tweet</th>\n",
       "      <th>prediction</th>\n",
       "    </tr>\n",
       "  </thead>\n",
       "  <tbody>\n",
       "    <tr>\n",
       "      <th>0</th>\n",
       "      <td>10000</td>\n",
       "      <td>मतदान प्रक्रिया के दौरान DmAmethi व SPअमेठी द्...</td>\n",
       "      <td>0</td>\n",
       "    </tr>\n",
       "    <tr>\n",
       "      <th>1</th>\n",
       "      <td>10005</td>\n",
       "      <td>यूपी में  फीसदी मतदाता पहली बार मतदान करेंगे म...</td>\n",
       "      <td>0</td>\n",
       "    </tr>\n",
       "    <tr>\n",
       "      <th>2</th>\n",
       "      <td>10024</td>\n",
       "      <td>DIGSpdeoria द्वारा AssemblyElections के दृष्टि...</td>\n",
       "      <td>0</td>\n",
       "    </tr>\n",
       "    <tr>\n",
       "      <th>3</th>\n",
       "      <td>10027</td>\n",
       "      <td>BJP  राज्यों में बहुमत से जीतेगी पीएम मोदी\\n\\n...</td>\n",
       "      <td>0</td>\n",
       "    </tr>\n",
       "    <tr>\n",
       "      <th>4</th>\n",
       "      <td>10053</td>\n",
       "      <td>लोकतंत्र के प्रति जगे AssemblyElections</td>\n",
       "      <td>0</td>\n",
       "    </tr>\n",
       "    <tr>\n",
       "      <th>...</th>\n",
       "      <td>...</td>\n",
       "      <td>...</td>\n",
       "      <td>...</td>\n",
       "    </tr>\n",
       "    <tr>\n",
       "      <th>4071</th>\n",
       "      <td>37146</td>\n",
       "      <td>महोत्तरीको बर्दिबास नगरपालिकाको अहिलेको मतगणना...</td>\n",
       "      <td>0</td>\n",
       "    </tr>\n",
       "    <tr>\n",
       "      <th>4072</th>\n",
       "      <td>37148</td>\n",
       "      <td>RaameshKoirala असभ्यअनुशासनहीन र अाडम्बरि हौं ...</td>\n",
       "      <td>0</td>\n",
       "    </tr>\n",
       "    <tr>\n",
       "      <th>4073</th>\n",
       "      <td>37153</td>\n",
       "      <td>नतिजा संगै जनमत र जनअपेक्षा बीच एकमना छ अब राष...</td>\n",
       "      <td>0</td>\n",
       "    </tr>\n",
       "    <tr>\n",
       "      <th>4074</th>\n",
       "      <td>37167</td>\n",
       "      <td>हाम्रो वडाका एमाले अध्यक्षका उमेदवारले  भोट आँ...</td>\n",
       "      <td>1</td>\n",
       "    </tr>\n",
       "    <tr>\n",
       "      <th>4075</th>\n",
       "      <td>37168</td>\n",
       "      <td>ओलीले  महिनालाई जम्मा गरेको ढुकुटी देउवाको गठब...</td>\n",
       "      <td>0</td>\n",
       "    </tr>\n",
       "  </tbody>\n",
       "</table>\n",
       "<p>4076 rows × 3 columns</p>\n",
       "</div>"
      ],
      "text/plain": [
       "      index                                              tweet  prediction\n",
       "0     10000  मतदान प्रक्रिया के दौरान DmAmethi व SPअमेठी द्...           0\n",
       "1     10005  यूपी में  फीसदी मतदाता पहली बार मतदान करेंगे म...           0\n",
       "2     10024  DIGSpdeoria द्वारा AssemblyElections के दृष्टि...           0\n",
       "3     10027  BJP  राज्यों में बहुमत से जीतेगी पीएम मोदी\\n\\n...           0\n",
       "4     10053            लोकतंत्र के प्रति जगे AssemblyElections           0\n",
       "...     ...                                                ...         ...\n",
       "4071  37146  महोत्तरीको बर्दिबास नगरपालिकाको अहिलेको मतगणना...           0\n",
       "4072  37148  RaameshKoirala असभ्यअनुशासनहीन र अाडम्बरि हौं ...           0\n",
       "4073  37153  नतिजा संगै जनमत र जनअपेक्षा बीच एकमना छ अब राष...           0\n",
       "4074  37167  हाम्रो वडाका एमाले अध्यक्षका उमेदवारले  भोट आँ...           1\n",
       "4075  37168  ओलीले  महिनालाई जम्मा गरेको ढुकुटी देउवाको गठब...           0\n",
       "\n",
       "[4076 rows x 3 columns]"
      ]
     },
     "execution_count": 39,
     "metadata": {},
     "output_type": "execute_result"
    }
   ],
   "source": [
    "test_df"
   ]
  },
  {
   "cell_type": "code",
   "execution_count": 40,
   "metadata": {},
   "outputs": [],
   "source": [
    "test_df.drop(columns=['tweet'], inplace=True)"
   ]
  },
  {
   "cell_type": "code",
   "execution_count": 41,
   "metadata": {},
   "outputs": [
    {
     "data": {
      "text/html": [
       "<div>\n",
       "<style scoped>\n",
       "    .dataframe tbody tr th:only-of-type {\n",
       "        vertical-align: middle;\n",
       "    }\n",
       "\n",
       "    .dataframe tbody tr th {\n",
       "        vertical-align: top;\n",
       "    }\n",
       "\n",
       "    .dataframe thead th {\n",
       "        text-align: right;\n",
       "    }\n",
       "</style>\n",
       "<table border=\"1\" class=\"dataframe\">\n",
       "  <thead>\n",
       "    <tr style=\"text-align: right;\">\n",
       "      <th></th>\n",
       "      <th>index</th>\n",
       "      <th>prediction</th>\n",
       "    </tr>\n",
       "  </thead>\n",
       "  <tbody>\n",
       "    <tr>\n",
       "      <th>0</th>\n",
       "      <td>10000</td>\n",
       "      <td>0</td>\n",
       "    </tr>\n",
       "    <tr>\n",
       "      <th>1</th>\n",
       "      <td>10005</td>\n",
       "      <td>0</td>\n",
       "    </tr>\n",
       "    <tr>\n",
       "      <th>2</th>\n",
       "      <td>10024</td>\n",
       "      <td>0</td>\n",
       "    </tr>\n",
       "    <tr>\n",
       "      <th>3</th>\n",
       "      <td>10027</td>\n",
       "      <td>0</td>\n",
       "    </tr>\n",
       "    <tr>\n",
       "      <th>4</th>\n",
       "      <td>10053</td>\n",
       "      <td>0</td>\n",
       "    </tr>\n",
       "  </tbody>\n",
       "</table>\n",
       "</div>"
      ],
      "text/plain": [
       "   index  prediction\n",
       "0  10000           0\n",
       "1  10005           0\n",
       "2  10024           0\n",
       "3  10027           0\n",
       "4  10053           0"
      ]
     },
     "execution_count": 41,
     "metadata": {},
     "output_type": "execute_result"
    }
   ],
   "source": [
    "test_df = test_df.sort_values(by=\"index\")\n",
    "test_df.head()"
   ]
  },
  {
   "cell_type": "code",
   "execution_count": 42,
   "metadata": {},
   "outputs": [],
   "source": [
    "output_file_path = 'output.txt'\n",
    "\n",
    "# Write the DataFrame to a text file in the desired format\n",
    "with open(output_file_path, 'w') as f:\n",
    "    for index, row in test_df.iterrows():\n",
    "        f.write(f'{{\"index\": {row[\"index\"]}, \"prediction\": {row[\"prediction\"]}}}\\n')"
   ]
  }
 ],
 "metadata": {
  "kernelspec": {
   "display_name": "fusemachines",
   "language": "python",
   "name": "python3"
  },
  "language_info": {
   "codemirror_mode": {
    "name": "ipython",
    "version": 3
   },
   "file_extension": ".py",
   "mimetype": "text/x-python",
   "name": "python",
   "nbconvert_exporter": "python",
   "pygments_lexer": "ipython3",
   "version": "3.12.4"
  }
 },
 "nbformat": 4,
 "nbformat_minor": 2
}
